{
  "nbformat": 4,
  "nbformat_minor": 0,
  "metadata": {
    "colab": {
      "name": "Keras_ANN.ipynb",
      "provenance": [],
      "collapsed_sections": []
    },
    "kernelspec": {
      "name": "python3",
      "display_name": "Python 3"
    },
    "accelerator": "GPU"
  },
  "cells": [
    {
      "cell_type": "code",
      "metadata": {
        "id": "OW44TIzwLJ1Z",
        "colab_type": "code",
        "outputId": "6aaf7666-8e6c-469d-9490-7229e35767e3",
        "colab": {
          "base_uri": "https://localhost:8080/",
          "height": 121
        }
      },
      "source": [
        "from google.colab import drive\n",
        "drive.mount('/content/drive')"
      ],
      "execution_count": 1,
      "outputs": [
        {
          "output_type": "stream",
          "text": [
            "Go to this URL in a browser: https://accounts.google.com/o/oauth2/auth?client_id=947318989803-6bn6qk8qdgf4n4g3pfee6491hc0brc4i.apps.googleusercontent.com&redirect_uri=urn%3aietf%3awg%3aoauth%3a2.0%3aoob&response_type=code&scope=email%20https%3a%2f%2fwww.googleapis.com%2fauth%2fdocs.test%20https%3a%2f%2fwww.googleapis.com%2fauth%2fdrive%20https%3a%2f%2fwww.googleapis.com%2fauth%2fdrive.photos.readonly%20https%3a%2f%2fwww.googleapis.com%2fauth%2fpeopleapi.readonly\n",
            "\n",
            "Enter your authorization code:\n",
            "··········\n",
            "Mounted at /content/drive\n"
          ],
          "name": "stdout"
        }
      ]
    },
    {
      "cell_type": "code",
      "metadata": {
        "id": "vpbeqByQL3w0",
        "colab_type": "code",
        "outputId": "beb8d38c-4473-428b-a304-5172660e163c",
        "colab": {
          "base_uri": "https://localhost:8080/",
          "height": 34
        }
      },
      "source": [
        "# cd /content/drive/My Drive/'Colab Notebooks'/\n",
        "cd /content/drive/My Drive/Walmart_Competition "
      ],
      "execution_count": 2,
      "outputs": [
        {
          "output_type": "stream",
          "text": [
            "/content/drive/My Drive/Walmart_Competition\n"
          ],
          "name": "stdout"
        }
      ]
    },
    {
      "cell_type": "code",
      "metadata": {
        "id": "hZT77kZ1MC6d",
        "colab_type": "code",
        "outputId": "b058764f-0d52-4d83-b9d0-2eb8454e8476",
        "colab": {
          "base_uri": "https://localhost:8080/",
          "height": 118
        }
      },
      "source": [
        "ls"
      ],
      "execution_count": 3,
      "outputs": [
        {
          "output_type": "stream",
          "text": [
            "features.csv                          RF_pickle_model.pkl\n",
            "Keras_pickle_model.pkl                sampleSubmission.csv\n",
            "Linear_Regression.ipynb               stores.csv\n",
            "Linear_Regression_NN.ipynb            test.csv\n",
            "LR_Regularization_Dropout_Adam.ipynb  train.csv\n",
            "ML_models.ipynb                       Walmart_Comp.ipynb\n"
          ],
          "name": "stdout"
        }
      ]
    },
    {
      "cell_type": "code",
      "metadata": {
        "id": "TuM5BKc5Ml-X",
        "colab_type": "code",
        "colab": {}
      },
      "source": [
        "# Imports\n",
        "import numpy as np\n",
        "import pandas as pd\n",
        "import pickle\n",
        "import matplotlib.pyplot as plt\n",
        "%matplotlib inline"
      ],
      "execution_count": 0,
      "outputs": []
    },
    {
      "cell_type": "code",
      "metadata": {
        "id": "dqwTS7qPQHss",
        "colab_type": "code",
        "colab": {}
      },
      "source": [
        "# Sklearn Imports\n",
        "from sklearn.preprocessing import StandardScaler\n",
        "from sklearn.model_selection import KFold\n",
        "from sklearn.model_selection import train_test_split\n",
        "from sklearn.utils import shuffle\n",
        "from sklearn.model_selection import GridSearchCV\n",
        "from sklearn.metrics import r2_score, mean_squared_error\n",
        "from sklearn.linear_model import LinearRegression, Ridge, Lasso, ElasticNet\n",
        "from sklearn.svm import SVR\n",
        "from sklearn.neighbors import KNeighborsRegressor\n",
        "from sklearn.ensemble import GradientBoostingRegressor, RandomForestRegressor\n",
        "import xgboost as xgb"
      ],
      "execution_count": 0,
      "outputs": []
    },
    {
      "cell_type": "code",
      "metadata": {
        "id": "ZHUa57xjQItn",
        "colab_type": "code",
        "outputId": "2a936a1f-32eb-492d-dd91-88d986aaa99f",
        "colab": {
          "base_uri": "https://localhost:8080/",
          "height": 79
        }
      },
      "source": [
        "# Keras Imports\n",
        "import keras\n",
        "from keras.models import Sequential\n",
        "from keras.layers import Dense, Dropout\n",
        "from keras.wrappers.scikit_learn import KerasClassifier\n",
        "from keras.optimizers import Adam"
      ],
      "execution_count": 6,
      "outputs": [
        {
          "output_type": "stream",
          "text": [
            "Using TensorFlow backend.\n"
          ],
          "name": "stderr"
        },
        {
          "output_type": "display_data",
          "data": {
            "text/html": [
              "<p style=\"color: red;\">\n",
              "The default version of TensorFlow in Colab will soon switch to TensorFlow 2.x.<br>\n",
              "We recommend you <a href=\"https://www.tensorflow.org/guide/migrate\" target=\"_blank\">upgrade</a> now \n",
              "or ensure your notebook will continue to use TensorFlow 1.x via the <code>%tensorflow_version 1.x</code> magic:\n",
              "<a href=\"https://colab.research.google.com/notebooks/tensorflow_version.ipynb\" target=\"_blank\">more info</a>.</p>\n"
            ],
            "text/plain": [
              "<IPython.core.display.HTML object>"
            ]
          },
          "metadata": {
            "tags": []
          }
        }
      ]
    },
    {
      "cell_type": "code",
      "metadata": {
        "id": "LhiS3Z7MMD2S",
        "colab_type": "code",
        "colab": {}
      },
      "source": [
        "df_features = pd.read_csv('features.csv')\n",
        "df_stores = pd.read_csv('stores.csv')\n",
        "df_test = pd.read_csv('test.csv')\n",
        "df_train = pd.read_csv('train.csv')"
      ],
      "execution_count": 0,
      "outputs": []
    },
    {
      "cell_type": "code",
      "metadata": {
        "id": "eqUNVE1pMkbk",
        "colab_type": "code",
        "colab": {}
      },
      "source": [
        "data_frame = pd.merge(df_train,df_features,on=['Store','Date','IsHoliday'])"
      ],
      "execution_count": 0,
      "outputs": []
    },
    {
      "cell_type": "code",
      "metadata": {
        "id": "cQUM4Cr2MsSr",
        "colab_type": "code",
        "colab": {}
      },
      "source": [
        "data_frame = pd.merge(data_frame,df_stores,on='Store')"
      ],
      "execution_count": 0,
      "outputs": []
    },
    {
      "cell_type": "code",
      "metadata": {
        "id": "_ZhsHfvIMuhZ",
        "colab_type": "code",
        "colab": {}
      },
      "source": [
        "data_frame.fillna(0,inplace=True)"
      ],
      "execution_count": 0,
      "outputs": []
    },
    {
      "cell_type": "code",
      "metadata": {
        "id": "86aPOyvGMzHv",
        "colab_type": "code",
        "outputId": "1327a637-675d-415f-b862-776fb13395f9",
        "colab": {
          "base_uri": "https://localhost:8080/",
          "height": 302
        }
      },
      "source": [
        "data_frame.isna().sum()"
      ],
      "execution_count": 11,
      "outputs": [
        {
          "output_type": "execute_result",
          "data": {
            "text/plain": [
              "Store           0\n",
              "Dept            0\n",
              "Date            0\n",
              "Weekly_Sales    0\n",
              "IsHoliday       0\n",
              "Temperature     0\n",
              "Fuel_Price      0\n",
              "MarkDown1       0\n",
              "MarkDown2       0\n",
              "MarkDown3       0\n",
              "MarkDown4       0\n",
              "MarkDown5       0\n",
              "CPI             0\n",
              "Unemployment    0\n",
              "Type            0\n",
              "Size            0\n",
              "dtype: int64"
            ]
          },
          "metadata": {
            "tags": []
          },
          "execution_count": 11
        }
      ]
    },
    {
      "cell_type": "code",
      "metadata": {
        "id": "Tm-P41StM1VD",
        "colab_type": "code",
        "colab": {}
      },
      "source": [
        "data_frame[\"Weekly_Sales\"] = np.where(data_frame[\"Weekly_Sales\"] < 0,0,data_frame[\"Weekly_Sales\"])\n",
        "data_frame[\"MarkDown2\"] = np.where(data_frame[\"MarkDown2\"] < 0,0,data_frame[\"MarkDown2\"])\n",
        "data_frame[\"MarkDown3\"] = np.where(data_frame[\"MarkDown3\"] < 0,0,data_frame[\"MarkDown3\"])"
      ],
      "execution_count": 0,
      "outputs": []
    },
    {
      "cell_type": "code",
      "metadata": {
        "id": "EL2TbQCMM4wm",
        "colab_type": "code",
        "outputId": "99603bd0-8477-413b-adac-c05714c32c72",
        "colab": {
          "base_uri": "https://localhost:8080/",
          "height": 34
        }
      },
      "source": [
        "data_frame[\"Type\"].unique()"
      ],
      "execution_count": 13,
      "outputs": [
        {
          "output_type": "execute_result",
          "data": {
            "text/plain": [
              "array(['A', 'B', 'C'], dtype=object)"
            ]
          },
          "metadata": {
            "tags": []
          },
          "execution_count": 13
        }
      ]
    },
    {
      "cell_type": "code",
      "metadata": {
        "id": "HsuGpVBgM682",
        "colab_type": "code",
        "colab": {}
      },
      "source": [
        "data_frame[\"Date\"] = pd.to_datetime(data_frame[\"Date\"])\n",
        "data_frame[\"Year\"] = data_frame[\"Date\"].dt.year\n",
        "data_frame[\"Month\"] = data_frame[\"Date\"].dt.month\n",
        "data_frame[\"Day\"] = data_frame[\"Date\"].dt.day"
      ],
      "execution_count": 0,
      "outputs": []
    },
    {
      "cell_type": "code",
      "metadata": {
        "id": "JlhTCSurM9aL",
        "colab_type": "code",
        "colab": {}
      },
      "source": [
        "data_frame = data_frame.drop(\"Date\",axis=1)"
      ],
      "execution_count": 0,
      "outputs": []
    },
    {
      "cell_type": "code",
      "metadata": {
        "id": "09OpYeMbNBj6",
        "colab_type": "code",
        "colab": {}
      },
      "source": [
        "data_frame[\"IsHoliday\"] = data_frame[\"IsHoliday\"].astype(int)\n",
        "wmae_feature = data_frame[\"IsHoliday\"].values"
      ],
      "execution_count": 0,
      "outputs": []
    },
    {
      "cell_type": "code",
      "metadata": {
        "id": "yH_pXcSzNESi",
        "colab_type": "code",
        "colab": {}
      },
      "source": [
        "from sklearn.preprocessing import LabelEncoder\n",
        "le = LabelEncoder()\n",
        "data_frame[\"Type\"] = le.fit_transform(data_frame[\"Type\"])"
      ],
      "execution_count": 0,
      "outputs": []
    },
    {
      "cell_type": "code",
      "metadata": {
        "id": "5VpopMP6NGbw",
        "colab_type": "code",
        "colab": {}
      },
      "source": [
        "y = data_frame[\"Weekly_Sales\"].values\n",
        "#X = data_frame.drop(\"Weekly_Sales\",axis=1)\n",
        "X = data_frame.drop([\"Weekly_Sales\",\"IsHoliday\",\"CPI\",\"Unemployment\",\"MarkDown1\",\"Year\"],axis=1)"
      ],
      "execution_count": 0,
      "outputs": []
    },
    {
      "cell_type": "code",
      "metadata": {
        "id": "lGp3rfcTNL-t",
        "colab_type": "code",
        "outputId": "44352fa9-487b-4f43-add0-b0a2c01c56fe",
        "colab": {
          "base_uri": "https://localhost:8080/",
          "height": 34
        }
      },
      "source": [
        "#y = data_frame[\"Weekly_Sales\"].values\n",
        "from sklearn.preprocessing import MinMaxScaler\n",
        "from sklearn.preprocessing import StandardScaler\n",
        "sc = StandardScaler()\n",
        "min_max = MinMaxScaler()\n",
        "X = min_max.fit_transform(X)\n",
        "y = y.reshape(-1,1)\n",
        "y = min_max.fit_transform(y)\n",
        "#print(type(X))\n",
        "X = np.array(X)\n",
        "y = np.array(y)\n",
        "print(X.shape,y.shape)"
      ],
      "execution_count": 19,
      "outputs": [
        {
          "output_type": "stream",
          "text": [
            "(421570, 12) (421570, 1)\n"
          ],
          "name": "stdout"
        }
      ]
    },
    {
      "cell_type": "code",
      "metadata": {
        "id": "UK_fN1Cq9E1-",
        "colab_type": "code",
        "outputId": "da0432fc-6f9b-479d-f48e-7217dbd3e4e1",
        "colab": {
          "base_uri": "https://localhost:8080/",
          "height": 34
        }
      },
      "source": [
        "y.max()"
      ],
      "execution_count": 20,
      "outputs": [
        {
          "output_type": "execute_result",
          "data": {
            "text/plain": [
              "1.0"
            ]
          },
          "metadata": {
            "tags": []
          },
          "execution_count": 20
        }
      ]
    },
    {
      "cell_type": "code",
      "metadata": {
        "id": "6FsglMt6x-kE",
        "colab_type": "code",
        "outputId": "6ba229db-cd13-459f-a973-fc7f2b5ebff0",
        "colab": {
          "base_uri": "https://localhost:8080/",
          "height": 54
        }
      },
      "source": [
        "\"\"\"from sklearn.ensemble import RandomForestRegressor\n",
        "rf = RandomForestRegressor(n_estimators=50,criterion='mse')\n",
        "rf.fit(X,y)\n",
        "(pd.DataFrame([X.columns,rf.feature_importances_],columns=['Store', 'Dept', 'IsHoliday', 'Temperature', 'Fuel_Price', 'CPI',\n",
        "       'Unemployment', 'Type', 'Size', 'MarkDown1', 'MarkDown2', 'MarkDown3',\n",
        "       'MarkDown4', 'MarkDown5', 'year', 'month', 'day']).T).plot.bar()\"\"\""
      ],
      "execution_count": 21,
      "outputs": [
        {
          "output_type": "execute_result",
          "data": {
            "text/plain": [
              "\"from sklearn.ensemble import RandomForestRegressor\\nrf = RandomForestRegressor(n_estimators=50,criterion='mse')\\nrf.fit(X,y)\\n(pd.DataFrame([X.columns,rf.feature_importances_],columns=['Store', 'Dept', 'IsHoliday', 'Temperature', 'Fuel_Price', 'CPI',\\n       'Unemployment', 'Type', 'Size', 'MarkDown1', 'MarkDown2', 'MarkDown3',\\n       'MarkDown4', 'MarkDown5', 'year', 'month', 'day']).T).plot.bar()\""
            ]
          },
          "metadata": {
            "tags": []
          },
          "execution_count": 21
        }
      ]
    },
    {
      "cell_type": "code",
      "metadata": {
        "id": "zIYJV6GLO7E4",
        "colab_type": "code",
        "colab": {}
      },
      "source": [
        "def ANN(learning_rate):\n",
        "  adam = Adam(lr = learning_rate)\n",
        "  classifier = Sequential()\n",
        "  classifier.add(Dense(units = 7, activation = 'relu', \n",
        "                      kernel_initializer = keras.initializers.RandomNormal(mean=0.0, stddev=1.0, seed=37), input_dim = 12))\n",
        "  classifier.add(Dropout(0.2))\n",
        "  classifier.add(Dense(units = 7, activation = 'relu', \n",
        "                      kernel_initializer = keras.initializers.RandomNormal(mean=0.0, stddev=1.0, seed=37)))\n",
        "  classifier.add(Dropout(0.2))\n",
        "  classifier.add(Dense(units = 1, activation = None, \n",
        "                      kernel_initializer = keras.initializers.RandomNormal(mean=0.0, stddev=1.0, seed=37)))\n",
        "  classifier.compile(optimizer = adam, loss = 'mean_squared_error',\n",
        "                    metrics = ['accuracy'])\n",
        "  print(classifier.summary())\n",
        "  return classifier"
      ],
      "execution_count": 0,
      "outputs": []
    },
    {
      "cell_type": "code",
      "metadata": {
        "id": "QFnDUFecUciN",
        "colab_type": "code",
        "colab": {}
      },
      "source": [
        "def train_val_model():\n",
        "  learning_rate = 0.009  # Used for Adam Optimizer\n",
        "  iterr = 20 # Number of Epochs\n",
        "  n_folds = 5 # Number of folds for Cross Validation\n",
        "  bsize = 128  # Batch Size\n",
        "  train_acc, val_acc = [], [] # Lists for storing accuracies on each fold\n",
        "  # Cross validation\n",
        "  kfold = KFold(n_splits=n_folds, shuffle=True, random_state=7)\n",
        "  hist = []\n",
        "  val_hist=[]\n",
        "  acc=[]\n",
        "  val_acc=[]\n",
        "  for train, val in kfold.split(X, y):\n",
        "    X_train, X_val = X[train], X[val] # Grabbing X_train, X_val for Models\n",
        "    y_train, y_val = y[train], y[val] # Grabbiing y_train, y_val for Models\n",
        "    ann_model = ANN(learning_rate)\n",
        "    history = ann_model.fit(X_train, y_train,validation_data=(X_val,y_val), epochs=iterr, batch_size=bsize, verbose=1)\n",
        "    y_pred_ann = ann_model.predict(X_val)\n",
        "    print(\"Y_pred_ann values\", y_train.mean(),y_pred_ann.max(), y_pred_ann.mean(),y_pred_ann)\n",
        "    print(\"R2 scores: \",r2_score(y_val,y_pred_ann))\n",
        "    print(\"MSE value: \",mean_squared_error(y_val,y_pred_ann))\n",
        "    #print(history.history.keys())\n",
        "    hist.append(history.history['loss'])\n",
        "    val_hist.append(history.history['val_loss'])\n",
        "    acc.append(history.history['acc'])\n",
        "    val_acc.append(history.history['val_acc'])\n",
        "    \n",
        "    plt.figure()\n",
        "    plt.subplot(121)\n",
        "    # For Plotting, X_axis: Number of Epochs, Y_axis = Loss\n",
        "    plt.title(\"Trainig Loss\")\n",
        "    plt.plot(history.history['loss'])\n",
        "    plt.subplot(122)\n",
        "    plt.title(\"Validation Loss\")\n",
        "    plt.plot(history.history['val_loss'])\n",
        "    plt.show()\n",
        "    pkl_filename = \"Keras_pickle_model.pkl\"\n",
        "    with open(pkl_filename, 'wb') as file:\n",
        "      pickle.dump(ann_model, file)\n",
        "    yield hist,val_hist,acc,val_acc\n"
      ],
      "execution_count": 0,
      "outputs": []
    },
    {
      "cell_type": "code",
      "metadata": {
        "id": "G0ZrzwdjPAGV",
        "colab_type": "code",
        "outputId": "755fcd58-0331-4525-8dbc-30e41fdea8f7",
        "colab": {
          "base_uri": "https://localhost:8080/",
          "height": 1000
        }
      },
      "source": [
        "if __name__ == \"__main__\":\n",
        "  _ = train_val_model()\n",
        "  for el in _ : print(\"E\",el)\n",
        "  "
      ],
      "execution_count": 26,
      "outputs": [
        {
          "output_type": "stream",
          "text": [
            "WARNING:tensorflow:From /usr/local/lib/python3.6/dist-packages/keras/backend/tensorflow_backend.py:66: The name tf.get_default_graph is deprecated. Please use tf.compat.v1.get_default_graph instead.\n",
            "\n",
            "WARNING:tensorflow:From /usr/local/lib/python3.6/dist-packages/keras/backend/tensorflow_backend.py:541: The name tf.placeholder is deprecated. Please use tf.compat.v1.placeholder instead.\n",
            "\n",
            "WARNING:tensorflow:From /usr/local/lib/python3.6/dist-packages/keras/backend/tensorflow_backend.py:4409: The name tf.random_normal is deprecated. Please use tf.random.normal instead.\n",
            "\n",
            "WARNING:tensorflow:From /usr/local/lib/python3.6/dist-packages/keras/backend/tensorflow_backend.py:148: The name tf.placeholder_with_default is deprecated. Please use tf.compat.v1.placeholder_with_default instead.\n",
            "\n",
            "WARNING:tensorflow:From /usr/local/lib/python3.6/dist-packages/keras/backend/tensorflow_backend.py:3733: calling dropout (from tensorflow.python.ops.nn_ops) with keep_prob is deprecated and will be removed in a future version.\n",
            "Instructions for updating:\n",
            "Please use `rate` instead of `keep_prob`. Rate should be set to `rate = 1 - keep_prob`.\n",
            "WARNING:tensorflow:From /usr/local/lib/python3.6/dist-packages/keras/optimizers.py:793: The name tf.train.Optimizer is deprecated. Please use tf.compat.v1.train.Optimizer instead.\n",
            "\n",
            "Model: \"sequential_1\"\n",
            "_________________________________________________________________\n",
            "Layer (type)                 Output Shape              Param #   \n",
            "=================================================================\n",
            "dense_1 (Dense)              (None, 7)                 91        \n",
            "_________________________________________________________________\n",
            "dropout_1 (Dropout)          (None, 7)                 0         \n",
            "_________________________________________________________________\n",
            "dense_2 (Dense)              (None, 7)                 56        \n",
            "_________________________________________________________________\n",
            "dropout_2 (Dropout)          (None, 7)                 0         \n",
            "_________________________________________________________________\n",
            "dense_3 (Dense)              (None, 1)                 8         \n",
            "=================================================================\n",
            "Total params: 155\n",
            "Trainable params: 155\n",
            "Non-trainable params: 0\n",
            "_________________________________________________________________\n",
            "None\n",
            "WARNING:tensorflow:From /usr/local/lib/python3.6/dist-packages/keras/backend/tensorflow_backend.py:1033: The name tf.assign_add is deprecated. Please use tf.compat.v1.assign_add instead.\n",
            "\n",
            "WARNING:tensorflow:From /usr/local/lib/python3.6/dist-packages/keras/backend/tensorflow_backend.py:1020: The name tf.assign is deprecated. Please use tf.compat.v1.assign instead.\n",
            "\n",
            "WARNING:tensorflow:From /usr/local/lib/python3.6/dist-packages/keras/backend/tensorflow_backend.py:3005: The name tf.Session is deprecated. Please use tf.compat.v1.Session instead.\n",
            "\n",
            "Train on 337256 samples, validate on 84314 samples\n",
            "Epoch 1/20\n",
            "WARNING:tensorflow:From /usr/local/lib/python3.6/dist-packages/keras/backend/tensorflow_backend.py:190: The name tf.get_default_session is deprecated. Please use tf.compat.v1.get_default_session instead.\n",
            "\n",
            "WARNING:tensorflow:From /usr/local/lib/python3.6/dist-packages/keras/backend/tensorflow_backend.py:197: The name tf.ConfigProto is deprecated. Please use tf.compat.v1.ConfigProto instead.\n",
            "\n",
            "WARNING:tensorflow:From /usr/local/lib/python3.6/dist-packages/keras/backend/tensorflow_backend.py:207: The name tf.global_variables is deprecated. Please use tf.compat.v1.global_variables instead.\n",
            "\n",
            "WARNING:tensorflow:From /usr/local/lib/python3.6/dist-packages/keras/backend/tensorflow_backend.py:216: The name tf.is_variable_initialized is deprecated. Please use tf.compat.v1.is_variable_initialized instead.\n",
            "\n",
            "WARNING:tensorflow:From /usr/local/lib/python3.6/dist-packages/keras/backend/tensorflow_backend.py:223: The name tf.variables_initializer is deprecated. Please use tf.compat.v1.variables_initializer instead.\n",
            "\n",
            "337256/337256 [==============================] - 20s 59us/step - loss: 0.0544 - acc: 0.0032 - val_loss: 0.0010 - val_acc: 0.0033\n",
            "Epoch 2/20\n",
            "337256/337256 [==============================] - 11s 33us/step - loss: 0.0011 - acc: 0.0032 - val_loss: 0.0011 - val_acc: 0.0033\n",
            "Epoch 3/20\n",
            "337256/337256 [==============================] - 11s 32us/step - loss: 0.0011 - acc: 0.0032 - val_loss: 0.0010 - val_acc: 0.0033\n",
            "Epoch 4/20\n",
            "337256/337256 [==============================] - 10s 31us/step - loss: 0.0011 - acc: 0.0032 - val_loss: 0.0010 - val_acc: 0.0033\n",
            "Epoch 5/20\n",
            "337256/337256 [==============================] - 10s 31us/step - loss: 0.0010 - acc: 0.0032 - val_loss: 9.9876e-04 - val_acc: 0.0033\n",
            "Epoch 6/20\n",
            "337256/337256 [==============================] - 11s 32us/step - loss: 9.8892e-04 - acc: 0.0032 - val_loss: 9.6471e-04 - val_acc: 0.0033\n",
            "Epoch 7/20\n",
            "337256/337256 [==============================] - 11s 32us/step - loss: 9.8762e-04 - acc: 0.0032 - val_loss: 9.3383e-04 - val_acc: 0.0033\n",
            "Epoch 8/20\n",
            "337256/337256 [==============================] - 11s 32us/step - loss: 9.8582e-04 - acc: 0.0032 - val_loss: 0.0010 - val_acc: 0.0033\n",
            "Epoch 9/20\n",
            "337256/337256 [==============================] - 11s 31us/step - loss: 9.9138e-04 - acc: 0.0032 - val_loss: 9.6795e-04 - val_acc: 0.0033\n",
            "Epoch 10/20\n",
            "337256/337256 [==============================] - 11s 32us/step - loss: 9.8881e-04 - acc: 0.0032 - val_loss: 9.8956e-04 - val_acc: 0.0033\n",
            "Epoch 11/20\n",
            "337256/337256 [==============================] - 11s 32us/step - loss: 9.8856e-04 - acc: 0.0032 - val_loss: 9.7802e-04 - val_acc: 0.0033\n",
            "Epoch 12/20\n",
            "337256/337256 [==============================] - 10s 31us/step - loss: 9.8651e-04 - acc: 0.0032 - val_loss: 9.2619e-04 - val_acc: 0.0033\n",
            "Epoch 13/20\n",
            "337256/337256 [==============================] - 11s 31us/step - loss: 9.8977e-04 - acc: 0.0032 - val_loss: 9.2181e-04 - val_acc: 0.0033\n",
            "Epoch 14/20\n",
            "337256/337256 [==============================] - 11s 32us/step - loss: 9.8907e-04 - acc: 0.0032 - val_loss: 9.9933e-04 - val_acc: 0.0033\n",
            "Epoch 15/20\n",
            "337256/337256 [==============================] - 11s 32us/step - loss: 9.8715e-04 - acc: 0.0032 - val_loss: 9.5940e-04 - val_acc: 0.0033\n",
            "Epoch 16/20\n",
            "337256/337256 [==============================] - 11s 32us/step - loss: 9.9045e-04 - acc: 0.0032 - val_loss: 9.6176e-04 - val_acc: 0.0033\n",
            "Epoch 17/20\n",
            "337256/337256 [==============================] - 11s 32us/step - loss: 9.8941e-04 - acc: 0.0032 - val_loss: 9.4858e-04 - val_acc: 0.0033\n",
            "Epoch 18/20\n",
            "337256/337256 [==============================] - 11s 32us/step - loss: 9.8505e-04 - acc: 0.0032 - val_loss: 9.5267e-04 - val_acc: 0.0033\n",
            "Epoch 19/20\n",
            "337256/337256 [==============================] - 11s 32us/step - loss: 9.8669e-04 - acc: 0.0032 - val_loss: 9.5043e-04 - val_acc: 0.0033\n",
            "Epoch 20/20\n",
            "337256/337256 [==============================] - 11s 33us/step - loss: 9.9029e-04 - acc: 0.0032 - val_loss: 9.2041e-04 - val_acc: 0.0033\n",
            "Y_pred_ann values 0.023092065359612446 0.067359224 0.021176012 [[0.01926742]\n",
            " [0.01926742]\n",
            " [0.01926742]\n",
            " ...\n",
            " [0.01926742]\n",
            " [0.01926742]\n",
            " [0.01926742]]\n",
            "R2 scores:  0.11553534074788818\n",
            "MSE value:  0.0009204138472345626\n"
          ],
          "name": "stdout"
        },
        {
          "output_type": "display_data",
          "data": {
            "image/png": "[encoded data removed]",
            "text/plain": [
              "<Figure size 432x288 with 2 Axes>"
            ]
          },
          "metadata": {
            "tags": []
          }
        },
        {
          "output_type": "stream",
          "text": [
            "E ([[0.054396371399719284, 0.0011449073072521156, 0.001103832142120549, 0.001083727170135038, 0.001017036495171823, 0.0009889210707365514, 0.0009876191497563641, 0.0009858241338014365, 0.0009913756558125374, 0.0009888145712044312, 0.0009885601057105968, 0.0009865077171525131, 0.0009897743589393129, 0.0009890721938062947, 0.0009871455000437076, 0.000990449858122089, 0.0009894103547173681, 0.0009850548321660585, 0.000986692345725227, 0.0009902899570010091]], [[0.0010389342424914957, 0.0010509670616981861, 0.0010339120634761778, 0.0010401863671277466, 0.0009987587347443639, 0.00096471448395863, 0.0009338298594526367, 0.0010216778970038873, 0.0009679493007768977, 0.0009895591176567956, 0.0009780186845518557, 0.0009261879344648704, 0.0009218144773879123, 0.0009993340750780496, 0.0009594009990218543, 0.0009617600481437201, 0.0009485805223325709, 0.0009526745850520506, 0.00095043089458559, 0.0009204138312262188]], [[0.0031608036624997033, 0.003190454728752046, 0.0031904547288625048, 0.0031904547288625048, 0.0031904547289729637, 0.003190454728752046, 0.0031904547288625048, 0.003190454728752046, 0.003190454728752046, 0.003190454728752046, 0.003190454728752046, 0.003190454728752046, 0.003190454728752046, 0.003190454728752046, 0.003190454728752046, 0.003190454728752046, 0.0031904547288625048, 0.003190454728752046, 0.003190454728752046, 0.0031904547288625048]], [[0.0033446402732642266, 0.0033446402732642266, 0.0033446402732642266, 0.0033446402732642266, 0.0033446402732642266, 0.0033446402732642266, 0.0033446402732642266, 0.0033446402732642266, 0.0033446402732642266, 0.0033446402732642266, 0.0033446402732642266, 0.0033446402732642266, 0.0033446402732642266, 0.0033446402732642266, 0.0033446402732642266, 0.0033446402732642266, 0.0033446402732642266, 0.0033446402732642266, 0.0033446402732642266, 0.0033446402732642266]])\n",
            "Model: \"sequential_2\"\n",
            "_________________________________________________________________\n",
            "Layer (type)                 Output Shape              Param #   \n",
            "=================================================================\n",
            "dense_4 (Dense)              (None, 7)                 91        \n",
            "_________________________________________________________________\n",
            "dropout_3 (Dropout)          (None, 7)                 0         \n",
            "_________________________________________________________________\n",
            "dense_5 (Dense)              (None, 7)                 56        \n",
            "_________________________________________________________________\n",
            "dropout_4 (Dropout)          (None, 7)                 0         \n",
            "_________________________________________________________________\n",
            "dense_6 (Dense)              (None, 1)                 8         \n",
            "=================================================================\n",
            "Total params: 155\n",
            "Trainable params: 155\n",
            "Non-trainable params: 0\n",
            "_________________________________________________________________\n",
            "None\n",
            "Train on 337256 samples, validate on 84314 samples\n",
            "Epoch 1/20\n",
            "337256/337256 [==============================] - 11s 32us/step - loss: 0.0590 - acc: 0.0032 - val_loss: 0.0011 - val_acc: 0.0029\n",
            "Epoch 2/20\n",
            "337256/337256 [==============================] - 11s 32us/step - loss: 0.0011 - acc: 0.0033 - val_loss: 0.0011 - val_acc: 0.0029\n",
            "Epoch 3/20\n",
            "337256/337256 [==============================] - 11s 32us/step - loss: 0.0011 - acc: 0.0033 - val_loss: 0.0011 - val_acc: 0.0029\n",
            "Epoch 4/20\n",
            "337256/337256 [==============================] - 11s 31us/step - loss: 0.0011 - acc: 0.0033 - val_loss: 0.0011 - val_acc: 0.0029\n",
            "Epoch 5/20\n",
            "337256/337256 [==============================] - 11s 32us/step - loss: 0.0010 - acc: 0.0033 - val_loss: 9.8772e-04 - val_acc: 0.0029\n",
            "Epoch 6/20\n",
            "337256/337256 [==============================] - 11s 31us/step - loss: 9.7822e-04 - acc: 0.0033 - val_loss: 9.4514e-04 - val_acc: 0.0029\n",
            "Epoch 7/20\n",
            "337256/337256 [==============================] - 11s 32us/step - loss: 9.5803e-04 - acc: 0.0033 - val_loss: 9.8443e-04 - val_acc: 0.0029\n",
            "Epoch 8/20\n",
            "337256/337256 [==============================] - 11s 32us/step - loss: 9.4313e-04 - acc: 0.0033 - val_loss: 9.3280e-04 - val_acc: 0.0029\n",
            "Epoch 9/20\n",
            "337256/337256 [==============================] - 11s 32us/step - loss: 9.3517e-04 - acc: 0.0033 - val_loss: 9.3925e-04 - val_acc: 0.0029\n",
            "Epoch 10/20\n",
            "337256/337256 [==============================] - 11s 32us/step - loss: 9.3453e-04 - acc: 0.0033 - val_loss: 9.2354e-04 - val_acc: 0.0029\n",
            "Epoch 11/20\n",
            "337256/337256 [==============================] - 11s 32us/step - loss: 9.3399e-04 - acc: 0.0033 - val_loss: 8.9836e-04 - val_acc: 0.0029\n",
            "Epoch 12/20\n",
            "337256/337256 [==============================] - 10s 30us/step - loss: 9.3359e-04 - acc: 0.0033 - val_loss: 8.8970e-04 - val_acc: 0.0029\n",
            "Epoch 13/20\n",
            "337256/337256 [==============================] - 10s 29us/step - loss: 9.2813e-04 - acc: 0.0033 - val_loss: 8.9333e-04 - val_acc: 0.0029\n",
            "Epoch 14/20\n",
            "337256/337256 [==============================] - 10s 30us/step - loss: 9.3144e-04 - acc: 0.0033 - val_loss: 9.0540e-04 - val_acc: 0.0029\n",
            "Epoch 15/20\n",
            "337256/337256 [==============================] - 10s 30us/step - loss: 9.2816e-04 - acc: 0.0033 - val_loss: 8.4456e-04 - val_acc: 0.0029\n",
            "Epoch 16/20\n",
            "337256/337256 [==============================] - 10s 30us/step - loss: 9.2900e-04 - acc: 0.0033 - val_loss: 8.6621e-04 - val_acc: 0.0029\n",
            "Epoch 17/20\n",
            "337256/337256 [==============================] - 10s 29us/step - loss: 9.2493e-04 - acc: 0.0033 - val_loss: 8.5823e-04 - val_acc: 0.0029\n",
            "Epoch 18/20\n",
            "337256/337256 [==============================] - 10s 29us/step - loss: 9.1441e-04 - acc: 0.0033 - val_loss: 8.6197e-04 - val_acc: 0.0029\n",
            "Epoch 19/20\n",
            "337256/337256 [==============================] - 10s 29us/step - loss: 9.1576e-04 - acc: 0.0033 - val_loss: 8.4412e-04 - val_acc: 0.0029\n",
            "Epoch 20/20\n",
            "337256/337256 [==============================] - 10s 29us/step - loss: 9.1658e-04 - acc: 0.0033 - val_loss: 8.1471e-04 - val_acc: 0.0029\n",
            "Y_pred_ann values 0.023047459085148093 0.09766662 0.023292592 [[0.03727147]\n",
            " [0.02521346]\n",
            " [0.01733632]\n",
            " ...\n",
            " [0.01733632]\n",
            " [0.01733632]\n",
            " [0.01733632]]\n",
            "R2 scores:  0.2366458539892038\n",
            "MSE value:  0.0008147137861396816\n"
          ],
          "name": "stdout"
        },
        {
          "output_type": "display_data",
          "data": {
            "image/png": "[encoded data removed]",
            "text/plain": [
              "<Figure size 432x288 with 2 Axes>"
            ]
          },
          "metadata": {
            "tags": []
          }
        },
        {
          "output_type": "stream",
          "text": [
            "E ([[0.054396371399719284, 0.0011449073072521156, 0.001103832142120549, 0.001083727170135038, 0.001017036495171823, 0.0009889210707365514, 0.0009876191497563641, 0.0009858241338014365, 0.0009913756558125374, 0.0009888145712044312, 0.0009885601057105968, 0.0009865077171525131, 0.0009897743589393129, 0.0009890721938062947, 0.0009871455000437076, 0.000990449858122089, 0.0009894103547173681, 0.0009850548321660585, 0.000986692345725227, 0.0009902899570010091], [0.05903285495066825, 0.0011318277306008831, 0.0011021160868362441, 0.001081474126133643, 0.001014834933099533, 0.0009782247551840511, 0.000958034216445113, 0.0009431267015268448, 0.0009351727437956286, 0.0009345335967019911, 0.0009339941927093952, 0.0009335893167985706, 0.0009281343630559819, 0.0009314444807200704, 0.0009281643488919073, 0.0009290044996309857, 0.0009249265465378582, 0.0009144107722244623, 0.0009157578002398994, 0.0009165770040346303]], [[0.0010389342424914957, 0.0010509670616981861, 0.0010339120634761778, 0.0010401863671277466, 0.0009987587347443639, 0.00096471448395863, 0.0009338298594526367, 0.0010216778970038873, 0.0009679493007768977, 0.0009895591176567956, 0.0009780186845518557, 0.0009261879344648704, 0.0009218144773879123, 0.0009993340750780496, 0.0009594009990218543, 0.0009617600481437201, 0.0009485805223325709, 0.0009526745850520506, 0.00095043089458559, 0.0009204138312262188], [0.0010670166441758265, 0.0010532868562601716, 0.0010601933484739924, 0.0010849356991324663, 0.0009877201060950757, 0.0009451427166482405, 0.0009844295651549567, 0.0009328042796581342, 0.0009392495351925563, 0.0009235393864037303, 0.0008983591992431615, 0.000889703397450642, 0.0008933314733392421, 0.0009054043486365015, 0.0008445556022541983, 0.000866213294721874, 0.0008582288860367642, 0.0008619652097912075, 0.000844119822107176, 0.0008147137837531832]], [[0.0031608036624997033, 0.003190454728752046, 0.0031904547288625048, 0.0031904547288625048, 0.0031904547289729637, 0.003190454728752046, 0.0031904547288625048, 0.003190454728752046, 0.003190454728752046, 0.003190454728752046, 0.003190454728752046, 0.003190454728752046, 0.003190454728752046, 0.003190454728752046, 0.003190454728752046, 0.003190454728752046, 0.0031904547288625048, 0.003190454728752046, 0.003190454728752046, 0.0031904547288625048], [0.003237896434755794, 0.00329126835401001, 0.00329126835401001, 0.00329126835401001, 0.003291268354120469, 0.00329126835401001, 0.00329126835401001, 0.00329126835401001, 0.00329126835401001, 0.003291268354120469, 0.00329126835401001, 0.003291268354120469, 0.00329126835401001, 0.003291268354120469, 0.00329126835401001, 0.00329126835401001, 0.00329126835401001, 0.00329126835401001, 0.003291268354230928, 0.00329126835401001]], [[0.0033446402732642266, 0.0033446402732642266, 0.0033446402732642266, 0.0033446402732642266, 0.0033446402732642266, 0.0033446402732642266, 0.0033446402732642266, 0.0033446402732642266, 0.0033446402732642266, 0.0033446402732642266, 0.0033446402732642266, 0.0033446402732642266, 0.0033446402732642266, 0.0033446402732642266, 0.0033446402732642266, 0.0033446402732642266, 0.0033446402732642266, 0.0033446402732642266, 0.0033446402732642266, 0.0033446402732642266], [0.0029413857725195626, 0.0029413857725195626, 0.0029413857725195626, 0.0029413857725195626, 0.0029413857725195626, 0.0029413857725195626, 0.0029413857725195626, 0.0029413857725195626, 0.0029413857725195626, 0.0029413857725195626, 0.0029413857725195626, 0.0029413857725195626, 0.0029413857725195626, 0.0029413857725195626, 0.0029413857725195626, 0.0029413857725195626, 0.0029413857725195626, 0.0029413857725195626, 0.0029413857725195626, 0.0029413857725195626]])\n",
            "Model: \"sequential_3\"\n",
            "_________________________________________________________________\n",
            "Layer (type)                 Output Shape              Param #   \n",
            "=================================================================\n",
            "dense_7 (Dense)              (None, 7)                 91        \n",
            "_________________________________________________________________\n",
            "dropout_5 (Dropout)          (None, 7)                 0         \n",
            "_________________________________________________________________\n",
            "dense_8 (Dense)              (None, 7)                 56        \n",
            "_________________________________________________________________\n",
            "dropout_6 (Dropout)          (None, 7)                 0         \n",
            "_________________________________________________________________\n",
            "dense_9 (Dense)              (None, 1)                 8         \n",
            "=================================================================\n",
            "Total params: 155\n",
            "Trainable params: 155\n",
            "Non-trainable params: 0\n",
            "_________________________________________________________________\n",
            "None\n",
            "Train on 337256 samples, validate on 84314 samples\n",
            "Epoch 1/20\n",
            "337256/337256 [==============================] - 11s 32us/step - loss: 0.0602 - acc: 0.0031 - val_loss: 0.0011 - val_acc: 0.0034\n",
            "Epoch 2/20\n",
            "337256/337256 [==============================] - 10s 30us/step - loss: 0.0012 - acc: 0.0032 - val_loss: 0.0011 - val_acc: 0.0034\n",
            "Epoch 3/20\n",
            "337256/337256 [==============================] - 10s 31us/step - loss: 0.0011 - acc: 0.0032 - val_loss: 0.0011 - val_acc: 0.0034\n",
            "Epoch 4/20\n",
            "337256/337256 [==============================] - 10s 30us/step - loss: 0.0011 - acc: 0.0032 - val_loss: 0.0010 - val_acc: 0.0034\n",
            "Epoch 5/20\n",
            "337256/337256 [==============================] - 10s 30us/step - loss: 0.0010 - acc: 0.0032 - val_loss: 0.0010 - val_acc: 0.0034\n",
            "Epoch 6/20\n",
            "337256/337256 [==============================] - 10s 30us/step - loss: 9.8161e-04 - acc: 0.0032 - val_loss: 0.0010 - val_acc: 0.0034\n",
            "Epoch 7/20\n",
            "337256/337256 [==============================] - 10s 30us/step - loss: 9.7678e-04 - acc: 0.0032 - val_loss: 9.8045e-04 - val_acc: 0.0034\n",
            "Epoch 8/20\n",
            "337256/337256 [==============================] - 11s 31us/step - loss: 9.7293e-04 - acc: 0.0032 - val_loss: 0.0010 - val_acc: 0.0034\n",
            "Epoch 9/20\n",
            "337256/337256 [==============================] - 11s 32us/step - loss: 9.7147e-04 - acc: 0.0032 - val_loss: 0.0010 - val_acc: 0.0034\n",
            "Epoch 10/20\n",
            "337256/337256 [==============================] - 10s 30us/step - loss: 9.6368e-04 - acc: 0.0032 - val_loss: 9.8672e-04 - val_acc: 0.0034\n",
            "Epoch 11/20\n",
            "337256/337256 [==============================] - 10s 31us/step - loss: 9.5727e-04 - acc: 0.0032 - val_loss: 9.9089e-04 - val_acc: 0.0034\n",
            "Epoch 12/20\n",
            "337256/337256 [==============================] - 10s 29us/step - loss: 9.4942e-04 - acc: 0.0032 - val_loss: 9.3594e-04 - val_acc: 0.0034\n",
            "Epoch 13/20\n",
            "337256/337256 [==============================] - 10s 30us/step - loss: 9.4938e-04 - acc: 0.0032 - val_loss: 9.3361e-04 - val_acc: 0.0034\n",
            "Epoch 14/20\n",
            "337256/337256 [==============================] - 10s 30us/step - loss: 9.4813e-04 - acc: 0.0032 - val_loss: 9.2061e-04 - val_acc: 0.0034\n",
            "Epoch 15/20\n",
            "337256/337256 [==============================] - 10s 29us/step - loss: 9.4418e-04 - acc: 0.0032 - val_loss: 9.1626e-04 - val_acc: 0.0034\n",
            "Epoch 16/20\n",
            "337256/337256 [==============================] - 10s 31us/step - loss: 9.4770e-04 - acc: 0.0032 - val_loss: 9.0557e-04 - val_acc: 0.0034\n",
            "Epoch 17/20\n",
            "337256/337256 [==============================] - 11s 31us/step - loss: 9.4214e-04 - acc: 0.0032 - val_loss: 9.0178e-04 - val_acc: 0.0034\n",
            "Epoch 18/20\n",
            "337256/337256 [==============================] - 10s 31us/step - loss: 9.4372e-04 - acc: 0.0032 - val_loss: 8.6520e-04 - val_acc: 0.0034\n",
            "Epoch 19/20\n",
            "337256/337256 [==============================] - 10s 31us/step - loss: 9.4238e-04 - acc: 0.0032 - val_loss: 9.1788e-04 - val_acc: 0.0034\n",
            "Epoch 20/20\n",
            "337256/337256 [==============================] - 10s 31us/step - loss: 9.4401e-04 - acc: 0.0032 - val_loss: 9.3947e-04 - val_acc: 0.0034\n",
            "Y_pred_ann values 0.023044572609193265 0.07677158 0.027177805 [[0.02897164]\n",
            " [0.02897164]\n",
            " [0.02897164]\n",
            " ...\n",
            " [0.02897164]\n",
            " [0.02897164]\n",
            " [0.03059632]]\n",
            "R2 scores:  0.13087801510218222\n",
            "MSE value:  0.0009394653742984849\n"
          ],
          "name": "stdout"
        },
        {
          "output_type": "display_data",
          "data": {
            "image/png": "[encoded data removed]",
            "text/plain": [
              "<Figure size 432x288 with 2 Axes>"
            ]
          },
          "metadata": {
            "tags": []
          }
        },
        {
          "output_type": "stream",
          "text": [
            "E ([[0.054396371399719284, 0.0011449073072521156, 0.001103832142120549, 0.001083727170135038, 0.001017036495171823, 0.0009889210707365514, 0.0009876191497563641, 0.0009858241338014365, 0.0009913756558125374, 0.0009888145712044312, 0.0009885601057105968, 0.0009865077171525131, 0.0009897743589393129, 0.0009890721938062947, 0.0009871455000437076, 0.000990449858122089, 0.0009894103547173681, 0.0009850548321660585, 0.000986692345725227, 0.0009902899570010091], [0.05903285495066825, 0.0011318277306008831, 0.0011021160868362441, 0.001081474126133643, 0.001014834933099533, 0.0009782247551840511, 0.000958034216445113, 0.0009431267015268448, 0.0009351727437956286, 0.0009345335967019911, 0.0009339941927093952, 0.0009335893167985706, 0.0009281343630559819, 0.0009314444807200704, 0.0009281643488919073, 0.0009290044996309857, 0.0009249265465378582, 0.0009144107722244623, 0.0009157578002398994, 0.0009165770040346303], [0.06020337478071261, 0.0011508088702174618, 0.0010957573188117467, 0.001076628090385286, 0.0010093925097982726, 0.000981605388935038, 0.0009767846456048516, 0.0009729299201871475, 0.0009714666182937952, 0.0009636812193321102, 0.0009572658368054421, 0.0009494153710775214, 0.0009493845300154897, 0.0009481346314767396, 0.0009441814836589883, 0.0009477001334695342, 0.0009421369316729772, 0.0009437169157263121, 0.0009423826129732733, 0.0009440131747210954]], [[0.0010389342424914957, 0.0010509670616981861, 0.0010339120634761778, 0.0010401863671277466, 0.0009987587347443639, 0.00096471448395863, 0.0009338298594526367, 0.0010216778970038873, 0.0009679493007768977, 0.0009895591176567956, 0.0009780186845518557, 0.0009261879344648704, 0.0009218144773879123, 0.0009993340750780496, 0.0009594009990218543, 0.0009617600481437201, 0.0009485805223325709, 0.0009526745850520506, 0.00095043089458559, 0.0009204138312262188], [0.0010670166441758265, 0.0010532868562601716, 0.0010601933484739924, 0.0010849356991324663, 0.0009877201060950757, 0.0009451427166482405, 0.0009844295651549567, 0.0009328042796581342, 0.0009392495351925563, 0.0009235393864037303, 0.0008983591992431615, 0.000889703397450642, 0.0008933314733392421, 0.0009054043486365015, 0.0008445556022541983, 0.000866213294721874, 0.0008582288860367642, 0.0008619652097912075, 0.000844119822107176, 0.0008147137837531832], [0.0010680551053718057, 0.0010653856345471367, 0.0010696078206209835, 0.0010254979378727907, 0.0010185620270684848, 0.001005945227558248, 0.0009804457362975704, 0.001025686929143311, 0.0010043147392904007, 0.0009867203086084849, 0.0009908865403898235, 0.0009359356366759973, 0.0009336119432418051, 0.0009206126862347935, 0.000916258544687405, 0.0009055708850526041, 0.0009017787997511322, 0.0008651964608476153, 0.0009178765303819962, 0.0009394653771046238]], [[0.0031608036624997033, 0.003190454728752046, 0.0031904547288625048, 0.0031904547288625048, 0.0031904547289729637, 0.003190454728752046, 0.0031904547288625048, 0.003190454728752046, 0.003190454728752046, 0.003190454728752046, 0.003190454728752046, 0.003190454728752046, 0.003190454728752046, 0.003190454728752046, 0.003190454728752046, 0.003190454728752046, 0.0031904547288625048, 0.003190454728752046, 0.003190454728752046, 0.0031904547288625048], [0.003237896434755794, 0.00329126835401001, 0.00329126835401001, 0.00329126835401001, 0.003291268354120469, 0.00329126835401001, 0.00329126835401001, 0.00329126835401001, 0.00329126835401001, 0.003291268354120469, 0.00329126835401001, 0.003291268354120469, 0.00329126835401001, 0.003291268354120469, 0.00329126835401001, 0.00329126835401001, 0.00329126835401001, 0.00329126835401001, 0.003291268354230928, 0.00329126835401001], [0.003145978129373532, 0.0031756291956258746, 0.0031756291957363335, 0.0031756291956258746, 0.0031756291956258746, 0.0031756291957363335, 0.0031756291956258746, 0.0031756291956258746, 0.0031756291956258746, 0.0031756291957363335, 0.0031756291956258746, 0.0031756291956258746, 0.0031756291957363335, 0.0031756291957363335, 0.0031756291958467925, 0.0031756291956258746, 0.0031756291956258746, 0.0031756291956258746, 0.0031756291957363335, 0.0031756291956258746]], [[0.0033446402732642266, 0.0033446402732642266, 0.0033446402732642266, 0.0033446402732642266, 0.0033446402732642266, 0.0033446402732642266, 0.0033446402732642266, 0.0033446402732642266, 0.0033446402732642266, 0.0033446402732642266, 0.0033446402732642266, 0.0033446402732642266, 0.0033446402732642266, 0.0033446402732642266, 0.0033446402732642266, 0.0033446402732642266, 0.0033446402732642266, 0.0033446402732642266, 0.0033446402732642266, 0.0033446402732642266], [0.0029413857725195626, 0.0029413857725195626, 0.0029413857725195626, 0.0029413857725195626, 0.0029413857725195626, 0.0029413857725195626, 0.0029413857725195626, 0.0029413857725195626, 0.0029413857725195626, 0.0029413857725195626, 0.0029413857725195626, 0.0029413857725195626, 0.0029413857725195626, 0.0029413857725195626, 0.0029413857725195626, 0.0029413857725195626, 0.0029413857725195626, 0.0029413857725195626, 0.0029413857725195626, 0.0029413857725195626], [0.0034039424057689116, 0.0034039424057689116, 0.0034039424057689116, 0.0034039424057689116, 0.0034039424057689116, 0.0034039424057689116, 0.0034039424057689116, 0.0034039424057689116, 0.0034039424057689116, 0.0034039424057689116, 0.0034039424057689116, 0.0034039424057689116, 0.0034039424057689116, 0.0034039424057689116, 0.0034039424057689116, 0.0034039424057689116, 0.0034039424057689116, 0.0034039424057689116, 0.0034039424057689116, 0.0034039424057689116]])\n",
            "Model: \"sequential_4\"\n",
            "_________________________________________________________________\n",
            "Layer (type)                 Output Shape              Param #   \n",
            "=================================================================\n",
            "dense_10 (Dense)             (None, 7)                 91        \n",
            "_________________________________________________________________\n",
            "dropout_7 (Dropout)          (None, 7)                 0         \n",
            "_________________________________________________________________\n",
            "dense_11 (Dense)             (None, 7)                 56        \n",
            "_________________________________________________________________\n",
            "dropout_8 (Dropout)          (None, 7)                 0         \n",
            "_________________________________________________________________\n",
            "dense_12 (Dense)             (None, 1)                 8         \n",
            "=================================================================\n",
            "Total params: 155\n",
            "Trainable params: 155\n",
            "Non-trainable params: 0\n",
            "_________________________________________________________________\n",
            "None\n",
            "Train on 337256 samples, validate on 84314 samples\n",
            "Epoch 1/20\n",
            "337256/337256 [==============================] - 11s 33us/step - loss: 0.0570 - acc: 0.0032 - val_loss: 0.0011 - val_acc: 0.0031\n",
            "Epoch 2/20\n",
            "337256/337256 [==============================] - 11s 32us/step - loss: 0.0011 - acc: 0.0033 - val_loss: 0.0011 - val_acc: 0.0031\n",
            "Epoch 3/20\n",
            "337256/337256 [==============================] - 10s 31us/step - loss: 0.0011 - acc: 0.0033 - val_loss: 0.0011 - val_acc: 0.0031\n",
            "Epoch 4/20\n",
            "337256/337256 [==============================] - 11s 31us/step - loss: 0.0011 - acc: 0.0033 - val_loss: 0.0011 - val_acc: 0.0031\n",
            "Epoch 5/20\n",
            "337256/337256 [==============================] - 11s 32us/step - loss: 0.0010 - acc: 0.0033 - val_loss: 0.0011 - val_acc: 0.0031\n",
            "Epoch 6/20\n",
            "337256/337256 [==============================] - 11s 32us/step - loss: 9.7035e-04 - acc: 0.0033 - val_loss: 0.0010 - val_acc: 0.0031\n",
            "Epoch 7/20\n",
            "337256/337256 [==============================] - 11s 31us/step - loss: 9.5986e-04 - acc: 0.0033 - val_loss: 0.0010 - val_acc: 0.0031\n",
            "Epoch 8/20\n",
            "337256/337256 [==============================] - 11s 33us/step - loss: 9.3847e-04 - acc: 0.0033 - val_loss: 8.8462e-04 - val_acc: 0.0031\n",
            "Epoch 9/20\n",
            "337256/337256 [==============================] - 11s 32us/step - loss: 9.1337e-04 - acc: 0.0033 - val_loss: 9.0605e-04 - val_acc: 0.0031\n",
            "Epoch 10/20\n",
            "337256/337256 [==============================] - 11s 34us/step - loss: 9.1084e-04 - acc: 0.0033 - val_loss: 9.4484e-04 - val_acc: 0.0031\n",
            "Epoch 11/20\n",
            "337256/337256 [==============================] - 11s 33us/step - loss: 9.1076e-04 - acc: 0.0033 - val_loss: 9.1763e-04 - val_acc: 0.0031\n",
            "Epoch 12/20\n",
            "337256/337256 [==============================] - 11s 31us/step - loss: 9.0920e-04 - acc: 0.0033 - val_loss: 8.9323e-04 - val_acc: 0.0031\n",
            "Epoch 13/20\n",
            "337256/337256 [==============================] - 10s 31us/step - loss: 9.0837e-04 - acc: 0.0033 - val_loss: 9.1027e-04 - val_acc: 0.0031\n",
            "Epoch 14/20\n",
            "337256/337256 [==============================] - 11s 33us/step - loss: 9.0228e-04 - acc: 0.0033 - val_loss: 8.5876e-04 - val_acc: 0.0031\n",
            "Epoch 15/20\n",
            "337256/337256 [==============================] - 11s 33us/step - loss: 8.9959e-04 - acc: 0.0033 - val_loss: 8.7191e-04 - val_acc: 0.0031\n",
            "Epoch 16/20\n",
            "337256/337256 [==============================] - 11s 33us/step - loss: 8.9831e-04 - acc: 0.0033 - val_loss: 9.0882e-04 - val_acc: 0.0031\n",
            "Epoch 17/20\n",
            "337256/337256 [==============================] - 11s 33us/step - loss: 8.9848e-04 - acc: 0.0033 - val_loss: 8.8014e-04 - val_acc: 0.0031\n",
            "Epoch 18/20\n",
            "337256/337256 [==============================] - 11s 34us/step - loss: 8.9886e-04 - acc: 0.0033 - val_loss: 8.5177e-04 - val_acc: 0.0031\n",
            "Epoch 19/20\n",
            "337256/337256 [==============================] - 11s 33us/step - loss: 9.0002e-04 - acc: 0.0033 - val_loss: 8.6298e-04 - val_acc: 0.0031\n",
            "Epoch 20/20\n",
            "337256/337256 [==============================] - 11s 32us/step - loss: 8.9835e-04 - acc: 0.0033 - val_loss: 8.7632e-04 - val_acc: 0.0031\n",
            "Y_pred_ann values 0.023045898171152168 0.08230403 0.025739659 [[0.03727627]\n",
            " [0.02037771]\n",
            " [0.02037771]\n",
            " ...\n",
            " [0.02637822]\n",
            " [0.03084176]\n",
            " [0.03165331]]\n",
            "R2 scores:  0.20147165590793092\n",
            "MSE value:  0.0008763239430563184\n"
          ],
          "name": "stdout"
        },
        {
          "output_type": "display_data",
          "data": {
            "image/png": "[encoded data removed]",
            "text/plain": [
              "<Figure size 432x288 with 2 Axes>"
            ]
          },
          "metadata": {
            "tags": []
          }
        },
        {
          "output_type": "stream",
          "text": [
            "E ([[0.054396371399719284, 0.0011449073072521156, 0.001103832142120549, 0.001083727170135038, 0.001017036495171823, 0.0009889210707365514, 0.0009876191497563641, 0.0009858241338014365, 0.0009913756558125374, 0.0009888145712044312, 0.0009885601057105968, 0.0009865077171525131, 0.0009897743589393129, 0.0009890721938062947, 0.0009871455000437076, 0.000990449858122089, 0.0009894103547173681, 0.0009850548321660585, 0.000986692345725227, 0.0009902899570010091], [0.05903285495066825, 0.0011318277306008831, 0.0011021160868362441, 0.001081474126133643, 0.001014834933099533, 0.0009782247551840511, 0.000958034216445113, 0.0009431267015268448, 0.0009351727437956286, 0.0009345335967019911, 0.0009339941927093952, 0.0009335893167985706, 0.0009281343630559819, 0.0009314444807200704, 0.0009281643488919073, 0.0009290044996309857, 0.0009249265465378582, 0.0009144107722244623, 0.0009157578002398994, 0.0009165770040346303], [0.06020337478071261, 0.0011508088702174618, 0.0010957573188117467, 0.001076628090385286, 0.0010093925097982726, 0.000981605388935038, 0.0009767846456048516, 0.0009729299201871475, 0.0009714666182937952, 0.0009636812193321102, 0.0009572658368054421, 0.0009494153710775214, 0.0009493845300154897, 0.0009481346314767396, 0.0009441814836589883, 0.0009477001334695342, 0.0009421369316729772, 0.0009437169157263121, 0.0009423826129732733, 0.0009440131747210954], [0.05700722789492072, 0.0011387777412144996, 0.0010901960073357985, 0.0010733467705185636, 0.0010086621010329318, 0.0009703513136827056, 0.0009598589029478062, 0.0009384677294754689, 0.0009133740669310521, 0.0009108428159038014, 0.000910763993007786, 0.0009092043414646561, 0.0009083667747745807, 0.0009022838492638594, 0.0008995892807330119, 0.000898314813569998, 0.0008984767543534052, 0.000898856128028132, 0.0009000182663075218, 0.000898352649190253]], [[0.0010389342424914957, 0.0010509670616981861, 0.0010339120634761778, 0.0010401863671277466, 0.0009987587347443639, 0.00096471448395863, 0.0009338298594526367, 0.0010216778970038873, 0.0009679493007768977, 0.0009895591176567956, 0.0009780186845518557, 0.0009261879344648704, 0.0009218144773879123, 0.0009993340750780496, 0.0009594009990218543, 0.0009617600481437201, 0.0009485805223325709, 0.0009526745850520506, 0.00095043089458559, 0.0009204138312262188], [0.0010670166441758265, 0.0010532868562601716, 0.0010601933484739924, 0.0010849356991324663, 0.0009877201060950757, 0.0009451427166482405, 0.0009844295651549567, 0.0009328042796581342, 0.0009392495351925563, 0.0009235393864037303, 0.0008983591992431615, 0.000889703397450642, 0.0008933314733392421, 0.0009054043486365015, 0.0008445556022541983, 0.000866213294721874, 0.0008582288860367642, 0.0008619652097912075, 0.000844119822107176, 0.0008147137837531832], [0.0010680551053718057, 0.0010653856345471367, 0.0010696078206209835, 0.0010254979378727907, 0.0010185620270684848, 0.001005945227558248, 0.0009804457362975704, 0.001025686929143311, 0.0010043147392904007, 0.0009867203086084849, 0.0009908865403898235, 0.0009359356366759973, 0.0009336119432418051, 0.0009206126862347935, 0.000916258544687405, 0.0009055708850526041, 0.0009017787997511322, 0.0008651964608476153, 0.0009178765303819962, 0.0009394653771046238], [0.0010842972208746351, 0.0011233519157771432, 0.0010928712511938468, 0.001076232777830085, 0.001064916540933961, 0.0010068126941479697, 0.0010260811826523933, 0.0008846241545196698, 0.0009060481976152537, 0.0009448423665387037, 0.0009176278291662984, 0.0008932349796677196, 0.0009102724146534851, 0.00085875504096636, 0.0008719123408469445, 0.0009088161828528652, 0.0008801417361029233, 0.0008517742878579579, 0.0008629751640676148, 0.0008763239490270011]], [[0.0031608036624997033, 0.003190454728752046, 0.0031904547288625048, 0.0031904547288625048, 0.0031904547289729637, 0.003190454728752046, 0.0031904547288625048, 0.003190454728752046, 0.003190454728752046, 0.003190454728752046, 0.003190454728752046, 0.003190454728752046, 0.003190454728752046, 0.003190454728752046, 0.003190454728752046, 0.003190454728752046, 0.0031904547288625048, 0.003190454728752046, 0.003190454728752046, 0.0031904547288625048], [0.003237896434755794, 0.00329126835401001, 0.00329126835401001, 0.00329126835401001, 0.003291268354120469, 0.00329126835401001, 0.00329126835401001, 0.00329126835401001, 0.00329126835401001, 0.003291268354120469, 0.00329126835401001, 0.003291268354120469, 0.00329126835401001, 0.003291268354120469, 0.00329126835401001, 0.00329126835401001, 0.00329126835401001, 0.00329126835401001, 0.003291268354230928, 0.00329126835401001], [0.003145978129373532, 0.0031756291956258746, 0.0031756291957363335, 0.0031756291956258746, 0.0031756291956258746, 0.0031756291957363335, 0.0031756291956258746, 0.0031756291956258746, 0.0031756291956258746, 0.0031756291957363335, 0.0031756291956258746, 0.0031756291956258746, 0.0031756291957363335, 0.0031756291957363335, 0.0031756291958467925, 0.0031756291956258746, 0.0031756291956258746, 0.0031756291956258746, 0.0031756291957363335, 0.0031756291956258746], [0.003229001114880091, 0.0032586521811324336, 0.0032586521811324336, 0.0032586521812428926, 0.0032586521811324336, 0.0032586521811324336, 0.0032586521811324336, 0.0032586521812428926, 0.0032586521811324336, 0.0032586521811324336, 0.0032586521811324336, 0.0032586521811324336, 0.0032586521811324336, 0.0032586521811324336, 0.0032586521811324336, 0.0032586521811324336, 0.0032586521811324336, 0.0032586521811324336, 0.0032586521811324336, 0.0032586521811324336]], [[0.0033446402732642266, 0.0033446402732642266, 0.0033446402732642266, 0.0033446402732642266, 0.0033446402732642266, 0.0033446402732642266, 0.0033446402732642266, 0.0033446402732642266, 0.0033446402732642266, 0.0033446402732642266, 0.0033446402732642266, 0.0033446402732642266, 0.0033446402732642266, 0.0033446402732642266, 0.0033446402732642266, 0.0033446402732642266, 0.0033446402732642266, 0.0033446402732642266, 0.0033446402732642266, 0.0033446402732642266], [0.0029413857725195626, 0.0029413857725195626, 0.0029413857725195626, 0.0029413857725195626, 0.0029413857725195626, 0.0029413857725195626, 0.0029413857725195626, 0.0029413857725195626, 0.0029413857725195626, 0.0029413857725195626, 0.0029413857725195626, 0.0029413857725195626, 0.0029413857725195626, 0.0029413857725195626, 0.0029413857725195626, 0.0029413857725195626, 0.0029413857725195626, 0.0029413857725195626, 0.0029413857725195626, 0.0029413857725195626], [0.0034039424057689116, 0.0034039424057689116, 0.0034039424057689116, 0.0034039424057689116, 0.0034039424057689116, 0.0034039424057689116, 0.0034039424057689116, 0.0034039424057689116, 0.0034039424057689116, 0.0034039424057689116, 0.0034039424057689116, 0.0034039424057689116, 0.0034039424057689116, 0.0034039424057689116, 0.0034039424057689116, 0.0034039424057689116, 0.0034039424057689116, 0.0034039424057689116, 0.0034039424057689116, 0.0034039424057689116], [0.0030718504637426763, 0.0030718504637426763, 0.0030718504637426763, 0.0030718504637426763, 0.0030718504637426763, 0.0030718504637426763, 0.0030718504637426763, 0.0030718504637426763, 0.0030718504637426763, 0.0030718504637426763, 0.0030718504637426763, 0.0030718504637426763, 0.0030718504637426763, 0.0030718504637426763, 0.0030718504637426763, 0.0030718504637426763, 0.0030718504637426763, 0.0030718504637426763, 0.0030718504637426763, 0.0030718504637426763]])\n",
            "Model: \"sequential_5\"\n",
            "_________________________________________________________________\n",
            "Layer (type)                 Output Shape              Param #   \n",
            "=================================================================\n",
            "dense_13 (Dense)             (None, 7)                 91        \n",
            "_________________________________________________________________\n",
            "dropout_9 (Dropout)          (None, 7)                 0         \n",
            "_________________________________________________________________\n",
            "dense_14 (Dense)             (None, 7)                 56        \n",
            "_________________________________________________________________\n",
            "dropout_10 (Dropout)         (None, 7)                 0         \n",
            "_________________________________________________________________\n",
            "dense_15 (Dense)             (None, 1)                 8         \n",
            "=================================================================\n",
            "Total params: 155\n",
            "Trainable params: 155\n",
            "Non-trainable params: 0\n",
            "_________________________________________________________________\n",
            "None\n",
            "Train on 337256 samples, validate on 84314 samples\n",
            "Epoch 1/20\n",
            "337256/337256 [==============================] - 11s 34us/step - loss: 0.0569 - acc: 0.0032 - val_loss: 0.0011 - val_acc: 0.0033\n",
            "Epoch 2/20\n",
            "337256/337256 [==============================] - 11s 32us/step - loss: 0.0011 - acc: 0.0032 - val_loss: 0.0011 - val_acc: 0.0033\n",
            "Epoch 3/20\n",
            "337256/337256 [==============================] - 11s 32us/step - loss: 0.0011 - acc: 0.0032 - val_loss: 0.0011 - val_acc: 0.0033\n",
            "Epoch 4/20\n",
            "337256/337256 [==============================] - 11s 32us/step - loss: 0.0011 - acc: 0.0032 - val_loss: 0.0010 - val_acc: 0.0033\n",
            "Epoch 5/20\n",
            "337256/337256 [==============================] - 11s 32us/step - loss: 0.0010 - acc: 0.0032 - val_loss: 9.7987e-04 - val_acc: 0.0033\n",
            "Epoch 6/20\n",
            "337256/337256 [==============================] - 11s 32us/step - loss: 9.7747e-04 - acc: 0.0032 - val_loss: 9.9998e-04 - val_acc: 0.0033\n",
            "Epoch 7/20\n",
            "337256/337256 [==============================] - 11s 32us/step - loss: 9.4959e-04 - acc: 0.0032 - val_loss: 9.9347e-04 - val_acc: 0.0033\n",
            "Epoch 8/20\n",
            "337256/337256 [==============================] - 10s 29us/step - loss: 9.4807e-04 - acc: 0.0032 - val_loss: 9.3964e-04 - val_acc: 0.0033\n",
            "Epoch 9/20\n",
            "337256/337256 [==============================] - 10s 29us/step - loss: 9.4396e-04 - acc: 0.0032 - val_loss: 9.3866e-04 - val_acc: 0.0033\n",
            "Epoch 10/20\n",
            "337256/337256 [==============================] - 10s 30us/step - loss: 9.4043e-04 - acc: 0.0032 - val_loss: 9.7569e-04 - val_acc: 0.0033\n",
            "Epoch 11/20\n",
            "337256/337256 [==============================] - 10s 30us/step - loss: 9.3821e-04 - acc: 0.0032 - val_loss: 9.5300e-04 - val_acc: 0.0033\n",
            "Epoch 12/20\n",
            "337256/337256 [==============================] - 10s 31us/step - loss: 9.3907e-04 - acc: 0.0032 - val_loss: 9.6035e-04 - val_acc: 0.0033\n",
            "Epoch 13/20\n",
            "337256/337256 [==============================] - 10s 31us/step - loss: 9.3438e-04 - acc: 0.0032 - val_loss: 9.8470e-04 - val_acc: 0.0033\n",
            "Epoch 14/20\n",
            "337256/337256 [==============================] - 10s 30us/step - loss: 9.3703e-04 - acc: 0.0032 - val_loss: 9.9454e-04 - val_acc: 0.0033\n",
            "Epoch 15/20\n",
            "337256/337256 [==============================] - 10s 30us/step - loss: 9.3729e-04 - acc: 0.0032 - val_loss: 0.0010 - val_acc: 0.0033\n",
            "Epoch 16/20\n",
            "337256/337256 [==============================] - 10s 29us/step - loss: 9.3043e-04 - acc: 0.0032 - val_loss: 0.0010 - val_acc: 0.0033\n",
            "Epoch 17/20\n",
            "337256/337256 [==============================] - 10s 30us/step - loss: 9.3296e-04 - acc: 0.0032 - val_loss: 8.9738e-04 - val_acc: 0.0033\n",
            "Epoch 18/20\n",
            "337256/337256 [==============================] - 11s 33us/step - loss: 9.3352e-04 - acc: 0.0032 - val_loss: 9.1369e-04 - val_acc: 0.0033\n",
            "Epoch 19/20\n",
            "337256/337256 [==============================] - 11s 32us/step - loss: 9.3465e-04 - acc: 0.0032 - val_loss: 0.0010 - val_acc: 0.0033\n",
            "Epoch 20/20\n",
            "337256/337256 [==============================] - 10s 30us/step - loss: 9.2689e-04 - acc: 0.0032 - val_loss: 9.5814e-04 - val_acc: 0.0033\n",
            "Y_pred_ann values 0.023059876419037215 0.06355814 0.022365142 [[0.03712759]\n",
            " [0.02867665]\n",
            " [0.02557897]\n",
            " ...\n",
            " [0.0190188 ]\n",
            " [0.0190188 ]\n",
            " [0.0190188 ]]\n",
            "R2 scores:  0.11461054555734707\n",
            "MSE value:  0.000958144299566655\n"
          ],
          "name": "stdout"
        },
        {
          "output_type": "display_data",
          "data": {
            "image/png": "[encoded data removed]",
            "text/plain": [
              "<Figure size 432x288 with 2 Axes>"
            ]
          },
          "metadata": {
            "tags": []
          }
        },
        {
          "output_type": "stream",
          "text": [
            "E ([[0.054396371399719284, 0.0011449073072521156, 0.001103832142120549, 0.001083727170135038, 0.001017036495171823, 0.0009889210707365514, 0.0009876191497563641, 0.0009858241338014365, 0.0009913756558125374, 0.0009888145712044312, 0.0009885601057105968, 0.0009865077171525131, 0.0009897743589393129, 0.0009890721938062947, 0.0009871455000437076, 0.000990449858122089, 0.0009894103547173681, 0.0009850548321660585, 0.000986692345725227, 0.0009902899570010091], [0.05903285495066825, 0.0011318277306008831, 0.0011021160868362441, 0.001081474126133643, 0.001014834933099533, 0.0009782247551840511, 0.000958034216445113, 0.0009431267015268448, 0.0009351727437956286, 0.0009345335967019911, 0.0009339941927093952, 0.0009335893167985706, 0.0009281343630559819, 0.0009314444807200704, 0.0009281643488919073, 0.0009290044996309857, 0.0009249265465378582, 0.0009144107722244623, 0.0009157578002398994, 0.0009165770040346303], [0.06020337478071261, 0.0011508088702174618, 0.0010957573188117467, 0.001076628090385286, 0.0010093925097982726, 0.000981605388935038, 0.0009767846456048516, 0.0009729299201871475, 0.0009714666182937952, 0.0009636812193321102, 0.0009572658368054421, 0.0009494153710775214, 0.0009493845300154897, 0.0009481346314767396, 0.0009441814836589883, 0.0009477001334695342, 0.0009421369316729772, 0.0009437169157263121, 0.0009423826129732733, 0.0009440131747210954], [0.05700722789492072, 0.0011387777412144996, 0.0010901960073357985, 0.0010733467705185636, 0.0010086621010329318, 0.0009703513136827056, 0.0009598589029478062, 0.0009384677294754689, 0.0009133740669310521, 0.0009108428159038014, 0.000910763993007786, 0.0009092043414646561, 0.0009083667747745807, 0.0009022838492638594, 0.0008995892807330119, 0.000898314813569998, 0.0008984767543534052, 0.000898856128028132, 0.0009000182663075218, 0.000898352649190253], [0.056866470076210505, 0.001131106941523788, 0.0010968239519363895, 0.0010690289322754815, 0.0010128400451553954, 0.0009774694057249256, 0.0009495908854423045, 0.0009480744987711034, 0.0009439620556823829, 0.000940425284369076, 0.0009382139032924863, 0.0009390717766398775, 0.0009343812216463105, 0.0009370256653880345, 0.0009372900890366787, 0.0009304317016182297, 0.0009329637292815103, 0.0009335170887834537, 0.0009346485308765413, 0.0009268942866047135]], [[0.0010389342424914957, 0.0010509670616981861, 0.0010339120634761778, 0.0010401863671277466, 0.0009987587347443639, 0.00096471448395863, 0.0009338298594526367, 0.0010216778970038873, 0.0009679493007768977, 0.0009895591176567956, 0.0009780186845518557, 0.0009261879344648704, 0.0009218144773879123, 0.0009993340750780496, 0.0009594009990218543, 0.0009617600481437201, 0.0009485805223325709, 0.0009526745850520506, 0.00095043089458559, 0.0009204138312262188], [0.0010670166441758265, 0.0010532868562601716, 0.0010601933484739924, 0.0010849356991324663, 0.0009877201060950757, 0.0009451427166482405, 0.0009844295651549567, 0.0009328042796581342, 0.0009392495351925563, 0.0009235393864037303, 0.0008983591992431615, 0.000889703397450642, 0.0008933314733392421, 0.0009054043486365015, 0.0008445556022541983, 0.000866213294721874, 0.0008582288860367642, 0.0008619652097912075, 0.000844119822107176, 0.0008147137837531832], [0.0010680551053718057, 0.0010653856345471367, 0.0010696078206209835, 0.0010254979378727907, 0.0010185620270684848, 0.001005945227558248, 0.0009804457362975704, 0.001025686929143311, 0.0010043147392904007, 0.0009867203086084849, 0.0009908865403898235, 0.0009359356366759973, 0.0009336119432418051, 0.0009206126862347935, 0.000916258544687405, 0.0009055708850526041, 0.0009017787997511322, 0.0008651964608476153, 0.0009178765303819962, 0.0009394653771046238], [0.0010842972208746351, 0.0011233519157771432, 0.0010928712511938468, 0.001076232777830085, 0.001064916540933961, 0.0010068126941479697, 0.0010260811826523933, 0.0008846241545196698, 0.0009060481976152537, 0.0009448423665387037, 0.0009176278291662984, 0.0008932349796677196, 0.0009102724146534851, 0.00085875504096636, 0.0008719123408469445, 0.0009088161828528652, 0.0008801417361029233, 0.0008517742878579579, 0.0008629751640676148, 0.0008763239490270011], [0.0010773560122025292, 0.0011036171674587217, 0.0010676183179817841, 0.001027576289507422, 0.0009798705687625708, 0.0009999812948598634, 0.0009934731355405314, 0.000939643391471667, 0.000938656598006209, 0.000975694321121349, 0.000952999067691631, 0.0009603473997113277, 0.000984695556552671, 0.0009945357449772517, 0.0010005317803204064, 0.0010159978216076984, 0.0008973830344006941, 0.0009136911082741002, 0.0010471201530838762, 0.0009581443023835033]], [[0.0031608036624997033, 0.003190454728752046, 0.0031904547288625048, 0.0031904547288625048, 0.0031904547289729637, 0.003190454728752046, 0.0031904547288625048, 0.003190454728752046, 0.003190454728752046, 0.003190454728752046, 0.003190454728752046, 0.003190454728752046, 0.003190454728752046, 0.003190454728752046, 0.003190454728752046, 0.003190454728752046, 0.0031904547288625048, 0.003190454728752046, 0.003190454728752046, 0.0031904547288625048], [0.003237896434755794, 0.00329126835401001, 0.00329126835401001, 0.00329126835401001, 0.003291268354120469, 0.00329126835401001, 0.00329126835401001, 0.00329126835401001, 0.00329126835401001, 0.003291268354120469, 0.00329126835401001, 0.003291268354120469, 0.00329126835401001, 0.003291268354120469, 0.00329126835401001, 0.00329126835401001, 0.00329126835401001, 0.00329126835401001, 0.003291268354230928, 0.00329126835401001], [0.003145978129373532, 0.0031756291956258746, 0.0031756291957363335, 0.0031756291956258746, 0.0031756291956258746, 0.0031756291957363335, 0.0031756291956258746, 0.0031756291956258746, 0.0031756291956258746, 0.0031756291957363335, 0.0031756291956258746, 0.0031756291956258746, 0.0031756291957363335, 0.0031756291957363335, 0.0031756291958467925, 0.0031756291956258746, 0.0031756291956258746, 0.0031756291956258746, 0.0031756291957363335, 0.0031756291956258746], [0.003229001114880091, 0.0032586521811324336, 0.0032586521811324336, 0.0032586521812428926, 0.0032586521811324336, 0.0032586521811324336, 0.0032586521811324336, 0.0032586521812428926, 0.0032586521811324336, 0.0032586521811324336, 0.0032586521811324336, 0.0032586521811324336, 0.0032586521811324336, 0.0032586521811324336, 0.0032586521811324336, 0.0032586521811324336, 0.0032586521811324336, 0.0032586521811324336, 0.0032586521811324336, 0.0032586521811324336], [0.0031578385558744693, 0.003190454728752046, 0.003190454728752046, 0.0031904547288625048, 0.003190454728752046, 0.003190454728752046, 0.003190454728752046, 0.0031904547288625048, 0.003190454728752046, 0.0031904547288625048, 0.003190454728752046, 0.003190454728752046, 0.003190454728752046, 0.003190454728752046, 0.003190454728752046, 0.003190454728752046, 0.0031904547288625048, 0.003190454728752046, 0.003190454728752046, 0.003190454728752046]], [[0.0033446402732642266, 0.0033446402732642266, 0.0033446402732642266, 0.0033446402732642266, 0.0033446402732642266, 0.0033446402732642266, 0.0033446402732642266, 0.0033446402732642266, 0.0033446402732642266, 0.0033446402732642266, 0.0033446402732642266, 0.0033446402732642266, 0.0033446402732642266, 0.0033446402732642266, 0.0033446402732642266, 0.0033446402732642266, 0.0033446402732642266, 0.0033446402732642266, 0.0033446402732642266, 0.0033446402732642266], [0.0029413857725195626, 0.0029413857725195626, 0.0029413857725195626, 0.0029413857725195626, 0.0029413857725195626, 0.0029413857725195626, 0.0029413857725195626, 0.0029413857725195626, 0.0029413857725195626, 0.0029413857725195626, 0.0029413857725195626, 0.0029413857725195626, 0.0029413857725195626, 0.0029413857725195626, 0.0029413857725195626, 0.0029413857725195626, 0.0029413857725195626, 0.0029413857725195626, 0.0029413857725195626, 0.0029413857725195626], [0.0034039424057689116, 0.0034039424057689116, 0.0034039424057689116, 0.0034039424057689116, 0.0034039424057689116, 0.0034039424057689116, 0.0034039424057689116, 0.0034039424057689116, 0.0034039424057689116, 0.0034039424057689116, 0.0034039424057689116, 0.0034039424057689116, 0.0034039424057689116, 0.0034039424057689116, 0.0034039424057689116, 0.0034039424057689116, 0.0034039424057689116, 0.0034039424057689116, 0.0034039424057689116, 0.0034039424057689116], [0.0030718504637426763, 0.0030718504637426763, 0.0030718504637426763, 0.0030718504637426763, 0.0030718504637426763, 0.0030718504637426763, 0.0030718504637426763, 0.0030718504637426763, 0.0030718504637426763, 0.0030718504637426763, 0.0030718504637426763, 0.0030718504637426763, 0.0030718504637426763, 0.0030718504637426763, 0.0030718504637426763, 0.0030718504637426763, 0.0030718504637426763, 0.0030718504637426763, 0.0030718504637426763, 0.0030718504637426763], [0.0033446402732642266, 0.0033446402732642266, 0.0033446402732642266, 0.0033446402732642266, 0.0033446402732642266, 0.0033446402732642266, 0.0033446402732642266, 0.0033446402732642266, 0.0033446402732642266, 0.0033446402732642266, 0.0033446402732642266, 0.0033446402732642266, 0.0033446402732642266, 0.0033446402732642266, 0.0033446402732642266, 0.0033446402732642266, 0.0033446402732642266, 0.0033446402732642266, 0.0033446402732642266, 0.0033446402732642266]])\n"
          ],
          "name": "stdout"
        }
      ]
    },
    {
      "cell_type": "code",
      "metadata": {
        "id": "IIQRoSV9qtBV",
        "colab_type": "code",
        "colab": {}
      },
      "source": [
        "#print(history.history.keys())"
      ],
      "execution_count": 0,
      "outputs": []
    },
    {
      "cell_type": "code",
      "metadata": {
        "id": "RDK8-MMFO3Bq",
        "colab_type": "code",
        "colab": {}
      },
      "source": [
        "def calculate_wmae(y_predictions,y_truth,wmae_feature):\n",
        "  wmae = np.zeros(y_predictions.shape)\n",
        "  y_truth = y_truth.reshape(-1,1)\n",
        "  #print(y_predictions.shape, y_train.shape)\n",
        "  for i in range(len(y_predictions)):\n",
        "    if wmae_feature[i] == 1:\n",
        "      wmae[i] = 5*np.absolute(y[i]-y_predictions[i])\n",
        "    else:\n",
        "      wmae[i] = np.absolute(y[i]-y_predictions[i])\n",
        "      \n",
        "  wmae_feature = np.where(wmae_feature==1,5,wmae_feature)\n",
        "  wmae_feature = np.where(wmae_feature==0,1,wmae_feature)\n",
        "  return np.sum(wmae)/np.sum(wmae_feature)"
      ],
      "execution_count": 0,
      "outputs": []
    },
    {
      "cell_type": "code",
      "metadata": {
        "id": "aBFTmj_9quGk",
        "colab_type": "code",
        "colab": {}
      },
      "source": [
        "pkl_filename = \"Keras_pickle_model.pkl\"\n",
        "with open(pkl_filename, 'rb') as file:\n",
        "  trained_model = pickle.load(file)"
      ],
      "execution_count": 0,
      "outputs": []
    },
    {
      "cell_type": "code",
      "metadata": {
        "id": "zJHZNTCYHM21",
        "colab_type": "code",
        "colab": {}
      },
      "source": [
        "y_predictions = trained_model.predict(X)"
      ],
      "execution_count": 0,
      "outputs": []
    },
    {
      "cell_type": "code",
      "metadata": {
        "id": "gP1M5EfCHREj",
        "colab_type": "code",
        "colab": {
          "base_uri": "https://localhost:8080/",
          "height": 34
        },
        "outputId": "0977e94a-15aa-4029-c82f-9295dab4d650"
      },
      "source": [
        "print(calculate_wmae(y_predictions,y,wmae_feature))"
      ],
      "execution_count": 30,
      "outputs": [
        {
          "output_type": "stream",
          "text": [
            "0.020001730697366764\n"
          ],
          "name": "stdout"
        }
      ]
    },
    {
      "cell_type": "code",
      "metadata": {
        "id": "92SXRhnFHUZN",
        "colab_type": "code",
        "colab": {}
      },
      "source": [
        ""
      ],
      "execution_count": 0,
      "outputs": []
    }
  ]
}